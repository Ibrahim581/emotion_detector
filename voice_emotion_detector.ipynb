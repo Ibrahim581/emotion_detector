{
  "nbformat": 4,
  "nbformat_minor": 0,
  "metadata": {
    "colab": {
      "provenance": []
    },
    "kernelspec": {
      "name": "python3",
      "display_name": "Python 3"
    },
    "language_info": {
      "name": "python"
    }
  },
  "cells": [
    {
      "cell_type": "markdown",
      "source": [
        "# Voice Emotion Detector\n",
        "\n",
        "## By: Ibrahim Noman\n",
        "\n",
        "## This is the python notebook used to create the voice emotion detection pytorch model. In this notebook:\n",
        "\n",
        "\n",
        "\n",
        "*   Data will be preprocessed\n",
        "*   Pytorch model will be created\n",
        "*   Data will be trained and validated\n",
        "\n"
      ],
      "metadata": {
        "id": "9gDqxIXbcDfh"
      }
    },
    {
      "cell_type": "markdown",
      "source": [
        "# Importing libraries\n",
        "\n",
        "## The following libraries will be used."
      ],
      "metadata": {
        "id": "l6d-RqLTzgvW"
      }
    },
    {
      "cell_type": "code",
      "source": [
        "import os\n",
        "import pandas as pd\n",
        "import numpy as np\n",
        "import librosa\n",
        "import torch"
      ],
      "metadata": {
        "id": "aBgFNa0hQ31L"
      },
      "execution_count": null,
      "outputs": []
    },
    {
      "cell_type": "markdown",
      "source": [
        "# Loading audio\n",
        "\n",
        "## The [RAVDESS Data Set](https://www.kaggle.com/datasets/uwrfkaggler/ravdess-emotional-speech-audio/code) from Kaggle will be used to train the model.\n",
        "\n",
        "## This data set contains 60 trials for 24 actors (1440 observations). Speech emotions include neutral, calm, happy, sad, angry, fearful, surprise, and disgust expressions."
      ],
      "metadata": {
        "id": "IklIe-wePYEy"
      }
    },
    {
      "cell_type": "code",
      "execution_count": null,
      "metadata": {
        "colab": {
          "base_uri": "https://localhost:8080/"
        },
        "id": "J2rOqmyDNFu8",
        "outputId": "71110010-070d-4b5f-e205-9aad30cda1bb"
      },
      "outputs": [
        {
          "output_type": "stream",
          "name": "stdout",
          "text": [
            "Path to dataset files: /kaggle/input/ravdess-emotional-speech-audio\n"
          ]
        }
      ],
      "source": [
        "import kagglehub\n",
        "\n",
        "# Download latest version\n",
        "path = kagglehub.dataset_download(\"uwrfkaggler/ravdess-emotional-speech-audio\")\n",
        "\n",
        "print(\"Path to dataset files:\", path)"
      ]
    },
    {
      "cell_type": "markdown",
      "source": [
        "# Preprocessing Audio\n",
        "\n",
        "## There are various preprocessing steps that need to be handled. First, there needs to be an emotion mapping for the emotions. These numeric mappings are the second number in the file name.\n",
        "\n",
        "## Next, the file name is consolidated into a dataframe as well as the emotion label, the numeric code and the actor."
      ],
      "metadata": {
        "id": "qMPxEdTYPTfd"
      }
    },
    {
      "cell_type": "code",
      "source": [
        "# Define base path to the dataset\n",
        "path = \"/kaggle/input/ravdess-emotional-speech-audio\"\n",
        "\n",
        "# Emotion labels as per RAVDESS documentation\n",
        "emotion_map = {\n",
        "    \"01\": \"neutral\",\n",
        "    \"02\": \"calm\",\n",
        "    \"03\": \"happy\",\n",
        "    \"04\": \"sad\",\n",
        "    \"05\": \"angry\",\n",
        "    \"06\": \"fearful\",\n",
        "    \"07\": \"disgust\",\n",
        "    \"08\": \"surprised\"\n",
        "}\n",
        "\n",
        "# Store metadata\n",
        "data = []\n",
        "\n",
        "# Traverse each actor folder\n",
        "for actor_folder in os.listdir(path):\n",
        "    actor_path = os.path.join(path, actor_folder)\n",
        "    if not os.path.isdir(actor_path):\n",
        "        continue\n",
        "\n",
        "    # Traverse each file\n",
        "    for file in os.listdir(actor_path):\n",
        "        if file.endswith(\".wav\"):\n",
        "            parts = file.split('-')\n",
        "            emotion_code = parts[2]\n",
        "            emotion_label = emotion_map.get(emotion_code, \"unknown\")\n",
        "\n",
        "            file_path = os.path.join(actor_path, file)\n",
        "            data.append({\n",
        "                \"file_path\": file_path,\n",
        "                \"emotion_code\": emotion_code,\n",
        "                \"emotion_label\": emotion_label,\n",
        "                \"actor\": actor_folder\n",
        "            })\n",
        "\n",
        "# Convert to DataFrame\n",
        "df = pd.DataFrame(data)\n",
        "df.head()"
      ],
      "metadata": {
        "colab": {
          "base_uri": "https://localhost:8080/",
          "height": 206
        },
        "id": "ji9pIByhPMqO",
        "outputId": "0f160b12-0b28-4d4e-ba4b-0b845d8dc8ad"
      },
      "execution_count": null,
      "outputs": [
        {
          "output_type": "execute_result",
          "data": {
            "text/plain": [
              "                                           file_path emotion_code  \\\n",
              "0  /kaggle/input/ravdess-emotional-speech-audio/A...           08   \n",
              "1  /kaggle/input/ravdess-emotional-speech-audio/A...           01   \n",
              "2  /kaggle/input/ravdess-emotional-speech-audio/A...           07   \n",
              "3  /kaggle/input/ravdess-emotional-speech-audio/A...           07   \n",
              "4  /kaggle/input/ravdess-emotional-speech-audio/A...           01   \n",
              "\n",
              "  emotion_label     actor  \n",
              "0     surprised  Actor_02  \n",
              "1       neutral  Actor_02  \n",
              "2       disgust  Actor_02  \n",
              "3       disgust  Actor_02  \n",
              "4       neutral  Actor_02  "
            ],
            "text/html": [
              "\n",
              "  <div id=\"df-8de9fd8f-d37d-48f6-bd6e-97751ede8021\" class=\"colab-df-container\">\n",
              "    <div>\n",
              "<style scoped>\n",
              "    .dataframe tbody tr th:only-of-type {\n",
              "        vertical-align: middle;\n",
              "    }\n",
              "\n",
              "    .dataframe tbody tr th {\n",
              "        vertical-align: top;\n",
              "    }\n",
              "\n",
              "    .dataframe thead th {\n",
              "        text-align: right;\n",
              "    }\n",
              "</style>\n",
              "<table border=\"1\" class=\"dataframe\">\n",
              "  <thead>\n",
              "    <tr style=\"text-align: right;\">\n",
              "      <th></th>\n",
              "      <th>file_path</th>\n",
              "      <th>emotion_code</th>\n",
              "      <th>emotion_label</th>\n",
              "      <th>actor</th>\n",
              "    </tr>\n",
              "  </thead>\n",
              "  <tbody>\n",
              "    <tr>\n",
              "      <th>0</th>\n",
              "      <td>/kaggle/input/ravdess-emotional-speech-audio/A...</td>\n",
              "      <td>08</td>\n",
              "      <td>surprised</td>\n",
              "      <td>Actor_02</td>\n",
              "    </tr>\n",
              "    <tr>\n",
              "      <th>1</th>\n",
              "      <td>/kaggle/input/ravdess-emotional-speech-audio/A...</td>\n",
              "      <td>01</td>\n",
              "      <td>neutral</td>\n",
              "      <td>Actor_02</td>\n",
              "    </tr>\n",
              "    <tr>\n",
              "      <th>2</th>\n",
              "      <td>/kaggle/input/ravdess-emotional-speech-audio/A...</td>\n",
              "      <td>07</td>\n",
              "      <td>disgust</td>\n",
              "      <td>Actor_02</td>\n",
              "    </tr>\n",
              "    <tr>\n",
              "      <th>3</th>\n",
              "      <td>/kaggle/input/ravdess-emotional-speech-audio/A...</td>\n",
              "      <td>07</td>\n",
              "      <td>disgust</td>\n",
              "      <td>Actor_02</td>\n",
              "    </tr>\n",
              "    <tr>\n",
              "      <th>4</th>\n",
              "      <td>/kaggle/input/ravdess-emotional-speech-audio/A...</td>\n",
              "      <td>01</td>\n",
              "      <td>neutral</td>\n",
              "      <td>Actor_02</td>\n",
              "    </tr>\n",
              "  </tbody>\n",
              "</table>\n",
              "</div>\n",
              "    <div class=\"colab-df-buttons\">\n",
              "\n",
              "  <div class=\"colab-df-container\">\n",
              "    <button class=\"colab-df-convert\" onclick=\"convertToInteractive('df-8de9fd8f-d37d-48f6-bd6e-97751ede8021')\"\n",
              "            title=\"Convert this dataframe to an interactive table.\"\n",
              "            style=\"display:none;\">\n",
              "\n",
              "  <svg xmlns=\"http://www.w3.org/2000/svg\" height=\"24px\" viewBox=\"0 -960 960 960\">\n",
              "    <path d=\"M120-120v-720h720v720H120Zm60-500h600v-160H180v160Zm220 220h160v-160H400v160Zm0 220h160v-160H400v160ZM180-400h160v-160H180v160Zm440 0h160v-160H620v160ZM180-180h160v-160H180v160Zm440 0h160v-160H620v160Z\"/>\n",
              "  </svg>\n",
              "    </button>\n",
              "\n",
              "  <style>\n",
              "    .colab-df-container {\n",
              "      display:flex;\n",
              "      gap: 12px;\n",
              "    }\n",
              "\n",
              "    .colab-df-convert {\n",
              "      background-color: #E8F0FE;\n",
              "      border: none;\n",
              "      border-radius: 50%;\n",
              "      cursor: pointer;\n",
              "      display: none;\n",
              "      fill: #1967D2;\n",
              "      height: 32px;\n",
              "      padding: 0 0 0 0;\n",
              "      width: 32px;\n",
              "    }\n",
              "\n",
              "    .colab-df-convert:hover {\n",
              "      background-color: #E2EBFA;\n",
              "      box-shadow: 0px 1px 2px rgba(60, 64, 67, 0.3), 0px 1px 3px 1px rgba(60, 64, 67, 0.15);\n",
              "      fill: #174EA6;\n",
              "    }\n",
              "\n",
              "    .colab-df-buttons div {\n",
              "      margin-bottom: 4px;\n",
              "    }\n",
              "\n",
              "    [theme=dark] .colab-df-convert {\n",
              "      background-color: #3B4455;\n",
              "      fill: #D2E3FC;\n",
              "    }\n",
              "\n",
              "    [theme=dark] .colab-df-convert:hover {\n",
              "      background-color: #434B5C;\n",
              "      box-shadow: 0px 1px 3px 1px rgba(0, 0, 0, 0.15);\n",
              "      filter: drop-shadow(0px 1px 2px rgba(0, 0, 0, 0.3));\n",
              "      fill: #FFFFFF;\n",
              "    }\n",
              "  </style>\n",
              "\n",
              "    <script>\n",
              "      const buttonEl =\n",
              "        document.querySelector('#df-8de9fd8f-d37d-48f6-bd6e-97751ede8021 button.colab-df-convert');\n",
              "      buttonEl.style.display =\n",
              "        google.colab.kernel.accessAllowed ? 'block' : 'none';\n",
              "\n",
              "      async function convertToInteractive(key) {\n",
              "        const element = document.querySelector('#df-8de9fd8f-d37d-48f6-bd6e-97751ede8021');\n",
              "        const dataTable =\n",
              "          await google.colab.kernel.invokeFunction('convertToInteractive',\n",
              "                                                    [key], {});\n",
              "        if (!dataTable) return;\n",
              "\n",
              "        const docLinkHtml = 'Like what you see? Visit the ' +\n",
              "          '<a target=\"_blank\" href=https://colab.research.google.com/notebooks/data_table.ipynb>data table notebook</a>'\n",
              "          + ' to learn more about interactive tables.';\n",
              "        element.innerHTML = '';\n",
              "        dataTable['output_type'] = 'display_data';\n",
              "        await google.colab.output.renderOutput(dataTable, element);\n",
              "        const docLink = document.createElement('div');\n",
              "        docLink.innerHTML = docLinkHtml;\n",
              "        element.appendChild(docLink);\n",
              "      }\n",
              "    </script>\n",
              "  </div>\n",
              "\n",
              "\n",
              "    <div id=\"df-76047194-0023-4e4f-a98f-ad9617bd9a34\">\n",
              "      <button class=\"colab-df-quickchart\" onclick=\"quickchart('df-76047194-0023-4e4f-a98f-ad9617bd9a34')\"\n",
              "                title=\"Suggest charts\"\n",
              "                style=\"display:none;\">\n",
              "\n",
              "<svg xmlns=\"http://www.w3.org/2000/svg\" height=\"24px\"viewBox=\"0 0 24 24\"\n",
              "     width=\"24px\">\n",
              "    <g>\n",
              "        <path d=\"M19 3H5c-1.1 0-2 .9-2 2v14c0 1.1.9 2 2 2h14c1.1 0 2-.9 2-2V5c0-1.1-.9-2-2-2zM9 17H7v-7h2v7zm4 0h-2V7h2v10zm4 0h-2v-4h2v4z\"/>\n",
              "    </g>\n",
              "</svg>\n",
              "      </button>\n",
              "\n",
              "<style>\n",
              "  .colab-df-quickchart {\n",
              "      --bg-color: #E8F0FE;\n",
              "      --fill-color: #1967D2;\n",
              "      --hover-bg-color: #E2EBFA;\n",
              "      --hover-fill-color: #174EA6;\n",
              "      --disabled-fill-color: #AAA;\n",
              "      --disabled-bg-color: #DDD;\n",
              "  }\n",
              "\n",
              "  [theme=dark] .colab-df-quickchart {\n",
              "      --bg-color: #3B4455;\n",
              "      --fill-color: #D2E3FC;\n",
              "      --hover-bg-color: #434B5C;\n",
              "      --hover-fill-color: #FFFFFF;\n",
              "      --disabled-bg-color: #3B4455;\n",
              "      --disabled-fill-color: #666;\n",
              "  }\n",
              "\n",
              "  .colab-df-quickchart {\n",
              "    background-color: var(--bg-color);\n",
              "    border: none;\n",
              "    border-radius: 50%;\n",
              "    cursor: pointer;\n",
              "    display: none;\n",
              "    fill: var(--fill-color);\n",
              "    height: 32px;\n",
              "    padding: 0;\n",
              "    width: 32px;\n",
              "  }\n",
              "\n",
              "  .colab-df-quickchart:hover {\n",
              "    background-color: var(--hover-bg-color);\n",
              "    box-shadow: 0 1px 2px rgba(60, 64, 67, 0.3), 0 1px 3px 1px rgba(60, 64, 67, 0.15);\n",
              "    fill: var(--button-hover-fill-color);\n",
              "  }\n",
              "\n",
              "  .colab-df-quickchart-complete:disabled,\n",
              "  .colab-df-quickchart-complete:disabled:hover {\n",
              "    background-color: var(--disabled-bg-color);\n",
              "    fill: var(--disabled-fill-color);\n",
              "    box-shadow: none;\n",
              "  }\n",
              "\n",
              "  .colab-df-spinner {\n",
              "    border: 2px solid var(--fill-color);\n",
              "    border-color: transparent;\n",
              "    border-bottom-color: var(--fill-color);\n",
              "    animation:\n",
              "      spin 1s steps(1) infinite;\n",
              "  }\n",
              "\n",
              "  @keyframes spin {\n",
              "    0% {\n",
              "      border-color: transparent;\n",
              "      border-bottom-color: var(--fill-color);\n",
              "      border-left-color: var(--fill-color);\n",
              "    }\n",
              "    20% {\n",
              "      border-color: transparent;\n",
              "      border-left-color: var(--fill-color);\n",
              "      border-top-color: var(--fill-color);\n",
              "    }\n",
              "    30% {\n",
              "      border-color: transparent;\n",
              "      border-left-color: var(--fill-color);\n",
              "      border-top-color: var(--fill-color);\n",
              "      border-right-color: var(--fill-color);\n",
              "    }\n",
              "    40% {\n",
              "      border-color: transparent;\n",
              "      border-right-color: var(--fill-color);\n",
              "      border-top-color: var(--fill-color);\n",
              "    }\n",
              "    60% {\n",
              "      border-color: transparent;\n",
              "      border-right-color: var(--fill-color);\n",
              "    }\n",
              "    80% {\n",
              "      border-color: transparent;\n",
              "      border-right-color: var(--fill-color);\n",
              "      border-bottom-color: var(--fill-color);\n",
              "    }\n",
              "    90% {\n",
              "      border-color: transparent;\n",
              "      border-bottom-color: var(--fill-color);\n",
              "    }\n",
              "  }\n",
              "</style>\n",
              "\n",
              "      <script>\n",
              "        async function quickchart(key) {\n",
              "          const quickchartButtonEl =\n",
              "            document.querySelector('#' + key + ' button');\n",
              "          quickchartButtonEl.disabled = true;  // To prevent multiple clicks.\n",
              "          quickchartButtonEl.classList.add('colab-df-spinner');\n",
              "          try {\n",
              "            const charts = await google.colab.kernel.invokeFunction(\n",
              "                'suggestCharts', [key], {});\n",
              "          } catch (error) {\n",
              "            console.error('Error during call to suggestCharts:', error);\n",
              "          }\n",
              "          quickchartButtonEl.classList.remove('colab-df-spinner');\n",
              "          quickchartButtonEl.classList.add('colab-df-quickchart-complete');\n",
              "        }\n",
              "        (() => {\n",
              "          let quickchartButtonEl =\n",
              "            document.querySelector('#df-76047194-0023-4e4f-a98f-ad9617bd9a34 button');\n",
              "          quickchartButtonEl.style.display =\n",
              "            google.colab.kernel.accessAllowed ? 'block' : 'none';\n",
              "        })();\n",
              "      </script>\n",
              "    </div>\n",
              "\n",
              "    </div>\n",
              "  </div>\n"
            ],
            "application/vnd.google.colaboratory.intrinsic+json": {
              "type": "dataframe",
              "variable_name": "df",
              "summary": "{\n  \"name\": \"df\",\n  \"rows\": 1440,\n  \"fields\": [\n    {\n      \"column\": \"file_path\",\n      \"properties\": {\n        \"dtype\": \"string\",\n        \"num_unique_values\": 1440,\n        \"samples\": [\n          \"/kaggle/input/ravdess-emotional-speech-audio/Actor_05/03-01-03-01-02-02-05.wav\",\n          \"/kaggle/input/ravdess-emotional-speech-audio/Actor_06/03-01-08-01-01-02-06.wav\",\n          \"/kaggle/input/ravdess-emotional-speech-audio/Actor_15/03-01-06-02-01-01-15.wav\"\n        ],\n        \"semantic_type\": \"\",\n        \"description\": \"\"\n      }\n    },\n    {\n      \"column\": \"emotion_code\",\n      \"properties\": {\n        \"dtype\": \"category\",\n        \"num_unique_values\": 8,\n        \"samples\": [\n          \"01\",\n          \"02\",\n          \"08\"\n        ],\n        \"semantic_type\": \"\",\n        \"description\": \"\"\n      }\n    },\n    {\n      \"column\": \"emotion_label\",\n      \"properties\": {\n        \"dtype\": \"category\",\n        \"num_unique_values\": 8,\n        \"samples\": [\n          \"neutral\",\n          \"calm\",\n          \"surprised\"\n        ],\n        \"semantic_type\": \"\",\n        \"description\": \"\"\n      }\n    },\n    {\n      \"column\": \"actor\",\n      \"properties\": {\n        \"dtype\": \"category\",\n        \"num_unique_values\": 24,\n        \"samples\": [\n          \"Actor_08\",\n          \"Actor_19\",\n          \"Actor_02\"\n        ],\n        \"semantic_type\": \"\",\n        \"description\": \"\"\n      }\n    }\n  ]\n}"
            }
          },
          "metadata": {},
          "execution_count": 4
        }
      ]
    },
    {
      "cell_type": "markdown",
      "source": [
        "## Next, a preprocessing function is created using the `librosa` library. This function does the following:\n",
        "\n",
        "* Trims audio (removes leading/trailing silence)\n",
        "* Padding audio if shorter than 3 seconds (ensures uniform length)\n",
        "* Resamples audio to 16 kHz\n",
        "* Extracts MFCCs (commonly used for speech recognition tasks)\n",
        "\n",
        "## This function is applied to all the file paths in ther `df` dataset.\n"
      ],
      "metadata": {
        "id": "bjqYjCW4eSPU"
      }
    },
    {
      "cell_type": "code",
      "source": [
        "# Preprocessing function\n",
        "def preprocess_audio(file_path):\n",
        "    # Load audio file\n",
        "    audio, sr = librosa.load(file_path, sr=16000)\n",
        "\n",
        "    # Trim audio (remove leading/trailing silence)\n",
        "    audio, _ = librosa.effects.trim(audio, top_db=20)\n",
        "\n",
        "    # Pad to 3 seconds (if shorter)\n",
        "    if len(audio) < 3 * sr:\n",
        "        padding = 3 * sr - len(audio)\n",
        "        audio = np.pad(audio, (0, padding), mode='constant')\n",
        "\n",
        "    # Resample to 16kHz (if needed)\n",
        "    audio = librosa.resample(audio, orig_sr=sr, target_sr=16000)\n",
        "\n",
        "    # Extract MFCCs\n",
        "    mfccs = librosa.feature.mfcc(y=audio, sr=16000, n_mfcc=40)\n",
        "\n",
        "    # Optionally extract Mel spectrogram\n",
        "    # melspectrogram = librosa.feature.melspectrogram(y=audio, sr=16000)\n",
        "\n",
        "    # Return the MFCC features (or mel spectrogram, based on your preference)\n",
        "    return mfccs.T  # Transpose so that shape is [time_steps, n_mfcc] (better for models)\n",
        "\n",
        "# Apply preprocessing function to df\n",
        "df['audio'] = df['file_path'].apply(preprocess_audio)"
      ],
      "metadata": {
        "collapsed": true,
        "id": "EXZbjcB7R-IB"
      },
      "execution_count": null,
      "outputs": []
    },
    {
      "cell_type": "markdown",
      "source": [
        "# Model Development\n",
        "\n",
        "## In this section, the emotion labels are converted into tensors for Pytorch."
      ],
      "metadata": {
        "id": "TIpHM2_fViiM"
      }
    },
    {
      "cell_type": "code",
      "source": [
        "import torch.nn.functional as F\n",
        "\n",
        "# Map emotion labels (strings) to integers\n",
        "emotion_mapping = {\n",
        "    'neutral': 0,\n",
        "    'calm': 1,\n",
        "    'happy': 2,\n",
        "    'sad': 3,\n",
        "    'angry': 4,\n",
        "    'fearful': 5,\n",
        "    'disgust': 6,\n",
        "    'surprised': 7\n",
        "}\n",
        "\n",
        "# Convert the emotion labels to integers\n",
        "df['emotion_label'] = df['emotion_label'].map(emotion_mapping)\n",
        "\n",
        "# Now convert to a tensor\n",
        "emotion_tensor = torch.tensor(df['emotion_label'].tolist(), dtype=torch.long)\n",
        "\n",
        "# Max length of sequences (e.g., 3 seconds worth of features)\n",
        "max_len = 150  # Example: 3 seconds worth of MFCCs, assuming 40 MFCCs per time step\n",
        "\n",
        "# Convert the audio features and pad them to the max length\n",
        "audio_tensor = []\n",
        "\n",
        "for audio in df['audio']:\n",
        "    # Pad or truncate along the time dimension\n",
        "    if audio.shape[0] < max_len:\n",
        "        padding = max_len - audio.shape[0]\n",
        "        audio_padded = np.pad(audio, ((0, padding), (0, 0)), mode='constant')\n",
        "    else:\n",
        "        audio_padded = audio[:max_len, :]  # Truncate if too long\n",
        "\n",
        "    # Convert to torch tensor and append to the list\n",
        "    audio_tensor.append(torch.tensor(audio_padded, dtype=torch.float32))\n",
        "\n",
        "# Stack all tensors into a single tensor\n",
        "audio_tensor = torch.stack(audio_tensor)\n",
        "\n",
        "# Convert the emotion labels (assumed to be integers)\n",
        "emotion_tensor = torch.tensor(df['emotion_label'].tolist())\n",
        "\n",
        "print(audio_tensor.shape)  # Should give (num_samples, max_len, 40)\n",
        "print(emotion_tensor.shape)  # Should give (num_samples,)"
      ],
      "metadata": {
        "colab": {
          "base_uri": "https://localhost:8080/"
        },
        "id": "EyHCac69VnIo",
        "outputId": "aa62278d-2add-4eba-faab-ade9e37fb7df"
      },
      "execution_count": null,
      "outputs": [
        {
          "output_type": "stream",
          "name": "stdout",
          "text": [
            "torch.Size([1440, 150, 40])\n",
            "torch.Size([1440])\n"
          ]
        }
      ]
    },
    {
      "cell_type": "markdown",
      "source": [
        "# Training and validating\n",
        "\n",
        "## Pytorch data set is created for training and validation."
      ],
      "metadata": {
        "id": "ysVEog3S1GNf"
      }
    },
    {
      "cell_type": "code",
      "source": [
        "from sklearn.model_selection import train_test_split\n",
        "from torch.utils.data import Dataset, DataLoader\n",
        "\n",
        "# Splitting the data\n",
        "X_train, X_val, y_train, y_val = train_test_split(audio_tensor, emotion_tensor, test_size=0.2, random_state=42)\n",
        "\n",
        "# Pytorch data set\n",
        "class EmotionDataset(Dataset):\n",
        "  def __init__(self, X, y):\n",
        "    self.X = X\n",
        "    self.y = y\n",
        "\n",
        "  def __len__(self):\n",
        "    return len(self.X)\n",
        "\n",
        "  def __getitem__(self, idx):\n",
        "    return self.X[idx], self.y[idx]\n",
        "\n",
        "# Applying to data\n",
        "train_dataset  = EmotionDataset(X_train, y_train)\n",
        "val_dataset = EmotionDataset(X_val, y_val)\n",
        "\n",
        "train_loader = DataLoader(train_dataset, batch_size=32, shuffle=True)\n",
        "val_loader = DataLoader(val_dataset, batch_size=32, shuffle=False)"
      ],
      "metadata": {
        "id": "BZR7XFT90Rk6"
      },
      "execution_count": null,
      "outputs": []
    },
    {
      "cell_type": "markdown",
      "source": [
        "## The `EmotionCNN` is created to cclassify 8 emotioons from audio features. It applies two convolutional layers with batch normalization and max pooling to extract temporal patterns, followed by global average and max pooling. The resulting features are concatenated and passed through fully connected layers with dropout for regularization."
      ],
      "metadata": {
        "id": "faZ9BAHniAfT"
      }
    },
    {
      "cell_type": "code",
      "source": [
        "import torch.nn as nn\n",
        "\n",
        "class EmotionCNN(nn.Module):\n",
        "    def __init__(self):\n",
        "        super(EmotionCNN, self).__init__()\n",
        "        self.conv1 = nn.Conv1d(40, 64, kernel_size=3, padding=1)\n",
        "        self.bn1 = nn.BatchNorm1d(64)\n",
        "        self.conv2 = nn.Conv1d(64, 128, kernel_size=3, padding=1)\n",
        "        self.bn2 = nn.BatchNorm1d(128)\n",
        "\n",
        "        self.pool = nn.MaxPool1d(kernel_size=2)\n",
        "\n",
        "        self.fc1 = nn.Linear(256, 128)  # 128 mean + 128 max\n",
        "        self.fc2 = nn.Linear(128, 8)\n",
        "\n",
        "        self.dropout = nn.Dropout(0.3)\n",
        "\n",
        "    def forward(self, x):\n",
        "        x = x.permute(0, 2, 1)  # (B, T, 40) → (B, 40, T)\n",
        "        x = F.relu(self.bn1(self.conv1(x)))\n",
        "        x = self.pool(x)\n",
        "        x = F.relu(self.bn2(self.conv2(x)))\n",
        "        x = self.pool(x)\n",
        "\n",
        "        x_mean = x.mean(dim=2)\n",
        "        x_max = x.max(dim=2).values\n",
        "        x = torch.cat((x_mean, x_max), dim=1)\n",
        "\n",
        "        x = self.dropout(x)\n",
        "        x = F.relu(self.fc1(x))\n",
        "        x = self.dropout(x)\n",
        "        return self.fc2(x)\n",
        "\n",
        "\n",
        "# Initialize model\n",
        "device = torch.device(\"cuda\" if torch.cuda.is_available() else \"cpu\")\n",
        "model = EmotionCNN().to(device)\n",
        "criterion = nn.CrossEntropyLoss()\n",
        "optimizer = torch.optim.Adam(model.parameters(), lr=0.001)"
      ],
      "metadata": {
        "id": "xnPetveL1I5Z"
      },
      "execution_count": null,
      "outputs": []
    },
    {
      "cell_type": "markdown",
      "source": [
        "## Now it is time for the training and validation. An early stopping callback is applied oce validation accuracy reaches 75%."
      ],
      "metadata": {
        "id": "6oRZsmUuikwA"
      }
    },
    {
      "cell_type": "code",
      "source": [
        "import copy\n",
        "\n",
        "patience = 8\n",
        "best_val_acc = 0\n",
        "epochs_no_improve = 0\n",
        "train_losses = []\n",
        "val_losses = []\n",
        "best_model = None\n",
        "\n",
        "for epoch in range(30):  # train longer\n",
        "    model.train()\n",
        "    train_loss = 0\n",
        "    correct = 0\n",
        "    for inputs, labels in train_loader:\n",
        "        inputs, labels = inputs.to(device), labels.to(device)\n",
        "\n",
        "        optimizer.zero_grad()\n",
        "        outputs = model(inputs)\n",
        "        loss = criterion(outputs, labels)\n",
        "        loss.backward()\n",
        "        optimizer.step()\n",
        "\n",
        "        train_loss += loss.item()\n",
        "        correct += (outputs.argmax(1) == labels).sum().item()\n",
        "\n",
        "    train_acc = correct / len(train_loader.dataset)\n",
        "    train_losses.append(train_loss)\n",
        "\n",
        "    # Validation\n",
        "    model.eval()\n",
        "    val_loss = 0\n",
        "    correct = 0\n",
        "    with torch.no_grad():\n",
        "        for inputs, labels in val_loader:\n",
        "            inputs, labels = inputs.to(device), labels.to(device)\n",
        "            outputs = model(inputs)\n",
        "            loss = criterion(outputs, labels)\n",
        "            val_loss += loss.item()\n",
        "            correct += (outputs.argmax(1) == labels).sum().item()\n",
        "\n",
        "    val_acc = correct / len(val_loader.dataset)\n",
        "    val_losses.append(val_loss)\n",
        "\n",
        "    print(f\"Epoch {epoch+1}/30 - Loss: {train_loss:.4f} - Train Acc: {train_acc:.4f} - Val Acc: {val_acc:.4f}\")\n",
        "\n",
        "\n",
        "\n",
        "    if val_acc > best_val_acc:\n",
        "        best_val_acc = val_acc\n",
        "        best_model = copy.deepcopy(model.state_dict())\n",
        "        epochs_no_improve = 0\n",
        "    else:\n",
        "        epochs_no_improve += 1\n",
        "        if best_val_acc >= 0.75:\n",
        "            print(f\"Early stopping! Best validation accuracy reached: {best_val_acc:.4f}\")\n",
        "            break\n",
        "\n",
        "model.load_state_dict(best_model)"
      ],
      "metadata": {
        "colab": {
          "base_uri": "https://localhost:8080/"
        },
        "id": "JIt9vaDL2YUH",
        "outputId": "39455016-e908-4d49-a1ba-ea12a42ac168"
      },
      "execution_count": null,
      "outputs": [
        {
          "output_type": "stream",
          "name": "stdout",
          "text": [
            "Epoch 1/30 - Loss: 4.5653 - Train Acc: 0.9592 - Val Acc: 0.7431\n",
            "Epoch 2/30 - Loss: 5.6387 - Train Acc: 0.9479 - Val Acc: 0.7222\n",
            "Epoch 3/30 - Loss: 7.7036 - Train Acc: 0.9253 - Val Acc: 0.7292\n",
            "Epoch 4/30 - Loss: 5.0030 - Train Acc: 0.9514 - Val Acc: 0.7361\n",
            "Epoch 5/30 - Loss: 5.5472 - Train Acc: 0.9470 - Val Acc: 0.7708\n",
            "Epoch 6/30 - Loss: 5.5567 - Train Acc: 0.9401 - Val Acc: 0.7188\n",
            "Early stopping! Best validation accuracy reached: 0.7708\n"
          ]
        },
        {
          "output_type": "execute_result",
          "data": {
            "text/plain": [
              "<All keys matched successfully>"
            ]
          },
          "metadata": {},
          "execution_count": 20
        }
      ]
    },
    {
      "cell_type": "code",
      "source": [
        "from sklearn.metrics import classification_report, confusion_matrix\n",
        "import seaborn as sns\n",
        "import matplotlib.pyplot as plt\n",
        "\n",
        "# Predict\n",
        "model.eval()\n",
        "all_preds = []\n",
        "all_labels = []\n",
        "\n",
        "with torch.no_grad():\n",
        "    for inputs, labels in val_loader:\n",
        "        inputs = inputs.to(device)\n",
        "        outputs = model(inputs)\n",
        "        preds = outputs.argmax(dim=1).cpu().numpy()\n",
        "        all_preds.extend(preds)\n",
        "        all_labels.extend(labels.numpy())\n",
        "\n",
        "# Report\n",
        "print(classification_report(all_labels, all_preds, target_names=emotion_mapping.keys()))\n",
        "\n",
        "# Confusion matrix\n",
        "cm = confusion_matrix(all_labels, all_preds)\n",
        "plt.figure(figsize=(8,6))\n",
        "sns.heatmap(cm, annot=True, xticklabels=emotion_mapping.keys(), yticklabels=emotion_mapping.keys(), fmt='d')\n",
        "plt.xlabel(\"Predicted\")\n",
        "plt.ylabel(\"True\")\n",
        "plt.title(\"Confusion Matrix\")\n",
        "plt.show()"
      ],
      "metadata": {
        "colab": {
          "base_uri": "https://localhost:8080/",
          "height": 824
        },
        "id": "9LuD1D4N3D-L",
        "outputId": "18a764fe-e684-45d6-f03e-6506eaba1699"
      },
      "execution_count": null,
      "outputs": [
        {
          "output_type": "stream",
          "name": "stdout",
          "text": [
            "              precision    recall  f1-score   support\n",
            "\n",
            "     neutral       0.55      0.58      0.56        19\n",
            "        calm       0.79      0.93      0.85        40\n",
            "       happy       0.70      0.68      0.69        41\n",
            "         sad       0.66      0.66      0.66        35\n",
            "       angry       0.90      0.82      0.86        34\n",
            "     fearful       0.72      0.74      0.73        31\n",
            "     disgust       0.92      0.78      0.84        45\n",
            "   surprised       0.82      0.86      0.84        43\n",
            "\n",
            "    accuracy                           0.77       288\n",
            "   macro avg       0.76      0.76      0.75       288\n",
            "weighted avg       0.78      0.77      0.77       288\n",
            "\n"
          ]
        },
        {
          "output_type": "display_data",
          "data": {
            "text/plain": [
              "<Figure size 800x600 with 2 Axes>"
            ],
            "image/png": "[encoded data removed]"
          },
          "metadata": {}
        }
      ]
    },
    {
      "cell_type": "markdown",
      "source": [
        "# Conclusion\n",
        "\n",
        "## Overall, the model performs very well with 94% training and 77% Validation accuracy. Some things to note:\n",
        "\n",
        "* Model performs the best for surprised (37/43) and calm (37/40)\n",
        "* Handles distinct emotions well\n",
        "* Struggles with overlapping emotions such as neutral and happy or sad and fearful"
      ],
      "metadata": {
        "id": "SuBF7Zzagvhl"
      }
    },
    {
      "cell_type": "code",
      "source": [
        "# Saving model\n",
        "torch.save(model.state_dict(), 'emotion_cnn.pth')"
      ],
      "metadata": {
        "id": "FZFHnua752nG"
      },
      "execution_count": null,
      "outputs": []
    }
  ]
}